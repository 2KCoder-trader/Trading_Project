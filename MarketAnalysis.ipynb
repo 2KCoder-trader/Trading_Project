{
 "cells": [
  {
   "cell_type": "code",
   "execution_count": 34,
   "id": "f958d30b-8a58-4ce8-b3ed-40819cc158bf",
   "metadata": {},
   "outputs": [],
   "source": [
    "import pandas as pd\n",
    "import yfinance as yf\n",
    "import numpy as np\n",
    "import time\n",
    "import matplotlib.pyplot as plt\n",
    "import keyboard\n",
    "from datetime import datetime\n",
    "import keyboard\n",
    "from IPython.display import display, clear_output"
   ]
  },
  {
   "cell_type": "code",
   "execution_count": 35,
   "id": "4315316f-cd6a-4a67-ae90-c4781254fa99",
   "metadata": {},
   "outputs": [],
   "source": [
    "msft = yf.Ticker(\"MSFT\")"
   ]
  },
  {
   "cell_type": "code",
   "execution_count": 36,
   "id": "d9816e40-3b29-4110-a062-c38a475241dd",
   "metadata": {},
   "outputs": [
    {
     "data": {
      "text/plain": [
       "dict"
      ]
     },
     "execution_count": 36,
     "metadata": {},
     "output_type": "execute_result"
    }
   ],
   "source": [
    "type(msft.info)"
   ]
  },
  {
   "cell_type": "code",
   "execution_count": 37,
   "id": "daed8aa1-b62b-43d1-87d6-80f355c1e9dd",
   "metadata": {},
   "outputs": [],
   "source": [
    "Df = pd.DataFrame.from_dict(msft.info, orient ='index')"
   ]
  },
  {
   "cell_type": "code",
   "execution_count": 38,
   "id": "3800ad1f-ca7b-470c-a632-c34525ff974d",
   "metadata": {},
   "outputs": [],
   "source": [
    "Df = Df.transpose()"
   ]
  },
  {
   "cell_type": "code",
   "execution_count": 39,
   "id": "01d40603-24c8-406e-bf9e-b703d499b133",
   "metadata": {},
   "outputs": [
    {
     "data": {
      "text/html": [
       "<div>\n",
       "<style scoped>\n",
       "    .dataframe tbody tr th:only-of-type {\n",
       "        vertical-align: middle;\n",
       "    }\n",
       "\n",
       "    .dataframe tbody tr th {\n",
       "        vertical-align: top;\n",
       "    }\n",
       "\n",
       "    .dataframe thead th {\n",
       "        text-align: right;\n",
       "    }\n",
       "</style>\n",
       "<table border=\"1\" class=\"dataframe\">\n",
       "  <thead>\n",
       "    <tr style=\"text-align: right;\">\n",
       "      <th></th>\n",
       "      <th>zip</th>\n",
       "      <th>sector</th>\n",
       "      <th>fullTimeEmployees</th>\n",
       "      <th>longBusinessSummary</th>\n",
       "      <th>city</th>\n",
       "      <th>phone</th>\n",
       "      <th>state</th>\n",
       "      <th>country</th>\n",
       "      <th>companyOfficers</th>\n",
       "      <th>website</th>\n",
       "      <th>...</th>\n",
       "      <th>fiftyTwoWeekLow</th>\n",
       "      <th>bid</th>\n",
       "      <th>tradeable</th>\n",
       "      <th>dividendYield</th>\n",
       "      <th>bidSize</th>\n",
       "      <th>dayHigh</th>\n",
       "      <th>coinMarketCapLink</th>\n",
       "      <th>regularMarketPrice</th>\n",
       "      <th>preMarketPrice</th>\n",
       "      <th>logo_url</th>\n",
       "    </tr>\n",
       "  </thead>\n",
       "  <tbody>\n",
       "    <tr>\n",
       "      <th>0</th>\n",
       "      <td>98052-6399</td>\n",
       "      <td>Technology</td>\n",
       "      <td>221000</td>\n",
       "      <td>Microsoft Corporation develops, licenses, and ...</td>\n",
       "      <td>Redmond</td>\n",
       "      <td>425 882 8080</td>\n",
       "      <td>WA</td>\n",
       "      <td>United States</td>\n",
       "      <td>[]</td>\n",
       "      <td>https://www.microsoft.com</td>\n",
       "      <td>...</td>\n",
       "      <td>219.13</td>\n",
       "      <td>238.05</td>\n",
       "      <td>False</td>\n",
       "      <td>0.0114</td>\n",
       "      <td>1100</td>\n",
       "      <td>241.31</td>\n",
       "      <td>None</td>\n",
       "      <td>236.99</td>\n",
       "      <td>236.41</td>\n",
       "      <td>https://logo.clearbit.com/microsoft.com</td>\n",
       "    </tr>\n",
       "  </tbody>\n",
       "</table>\n",
       "<p>1 rows × 154 columns</p>\n",
       "</div>"
      ],
      "text/plain": [
       "          zip      sector fullTimeEmployees  \\\n",
       "0  98052-6399  Technology            221000   \n",
       "\n",
       "                                 longBusinessSummary     city         phone  \\\n",
       "0  Microsoft Corporation develops, licenses, and ...  Redmond  425 882 8080   \n",
       "\n",
       "  state        country companyOfficers                    website  ...  \\\n",
       "0    WA  United States              []  https://www.microsoft.com  ...   \n",
       "\n",
       "  fiftyTwoWeekLow     bid tradeable dividendYield bidSize dayHigh  \\\n",
       "0          219.13  238.05     False        0.0114    1100  241.31   \n",
       "\n",
       "  coinMarketCapLink regularMarketPrice preMarketPrice  \\\n",
       "0              None             236.99         236.41   \n",
       "\n",
       "                                  logo_url  \n",
       "0  https://logo.clearbit.com/microsoft.com  \n",
       "\n",
       "[1 rows x 154 columns]"
      ]
     },
     "execution_count": 39,
     "metadata": {},
     "output_type": "execute_result"
    }
   ],
   "source": [
    "Df"
   ]
  },
  {
   "cell_type": "code",
   "execution_count": null,
   "id": "b7ae7c9f-83b5-4486-88b0-1b81a5a1aa5a",
   "metadata": {},
   "outputs": [],
   "source": []
  }
 ],
 "metadata": {
  "kernelspec": {
   "display_name": "Python 3 (ipykernel)",
   "language": "python",
   "name": "python3"
  },
  "language_info": {
   "codemirror_mode": {
    "name": "ipython",
    "version": 3
   },
   "file_extension": ".py",
   "mimetype": "text/x-python",
   "name": "python",
   "nbconvert_exporter": "python",
   "pygments_lexer": "ipython3",
   "version": "3.10.8"
  }
 },
 "nbformat": 4,
 "nbformat_minor": 5
}
